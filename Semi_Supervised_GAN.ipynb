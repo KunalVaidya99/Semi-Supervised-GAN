{
  "nbformat": 4,
  "nbformat_minor": 0,
  "metadata": {
    "colab": {
      "name": "Semi Supervised GAN.ipynb",
      "provenance": []
    },
    "kernelspec": {
      "name": "python3",
      "display_name": "Python 3"
    },
    "accelerator": "GPU"
  },
  "cells": [
    {
      "cell_type": "code",
      "metadata": {
        "id": "KMTpi3nvGaNA",
        "colab_type": "code",
        "colab": {
          "base_uri": "https://localhost:8080/",
          "height": 33
        },
        "outputId": "d6cad670-610c-46a1-a4e7-7e0b484d2ce6"
      },
      "source": [
        "%tensorflow_version 1.x"
      ],
      "execution_count": 1,
      "outputs": [
        {
          "output_type": "stream",
          "text": [
            "TensorFlow 1.x selected.\n"
          ],
          "name": "stdout"
        }
      ]
    },
    {
      "cell_type": "code",
      "metadata": {
        "id": "XlG3sjATGox_",
        "colab_type": "code",
        "colab": {
          "base_uri": "https://localhost:8080/",
          "height": 33
        },
        "outputId": "6ee3b90a-7a53-458a-b159-3dc1fc1552ad"
      },
      "source": [
        "import numpy as np\n",
        "import tensorflow as tf\n",
        "import keras\n",
        "from keras.layers import Dense,Conv2D,Conv2DTranspose,Input,Reshape,Activation,Lambda\n",
        "from keras.layers.advanced_activations import LeakyReLU\n",
        "from keras.optimizers import Adam\n",
        "from keras.layers import BatchNormalization,Dropout,Flatten\n",
        "from keras.datasets import mnist\n",
        "from keras.models import Sequential,Model\n",
        "import keras.backend as K\n",
        "import matplotlib.pyplot as plt\n"
      ],
      "execution_count": 2,
      "outputs": [
        {
          "output_type": "stream",
          "text": [
            "Using TensorFlow backend.\n"
          ],
          "name": "stderr"
        }
      ]
    },
    {
      "cell_type": "code",
      "metadata": {
        "id": "XtMwyUVsHdIa",
        "colab_type": "code",
        "colab": {}
      },
      "source": [
        "img_rows = 28\n",
        "img_cols = 28\n",
        "channels = 1\n",
        " \n",
        "img_shape = (img_rows,img_cols,channels)\n",
        " \n",
        "z_dim = 100\n",
        "num_classes = 10"
      ],
      "execution_count": 3,
      "outputs": []
    },
    {
      "cell_type": "code",
      "metadata": {
        "id": "BaLIPD7ZKy7k",
        "colab_type": "code",
        "colab": {
          "base_uri": "https://localhost:8080/",
          "height": 332
        },
        "outputId": "3595bc27-87ef-4798-bbb8-013f7f42dbb0"
      },
      "source": [
        "class Dataset:\n",
        "  def __init__(self,num_labeled,num_classes):\n",
        "    self.num_labeled = num_labeled\n",
        "    self.num_classes = num_classes\n",
        "    (self.x_train,self.y_train),(self.x_test,self.y_test) = mnist.load_data()\n",
        "  \n",
        "    def preprocess_image(x):\n",
        "      x = (x.astype(np.float32)-127.5)/127.5\n",
        "      x = np.expand_dims(x,axis=-1)\n",
        "      return x\n",
        "  \n",
        "    def preprocess_labels(y):\n",
        "      return y.reshape((-1,1))\n",
        "    self.x_train = preprocess_image(self.x_train)\n",
        "    print(np.min(self.x_train))\n",
        "    self.y_train = preprocess_labels(self.y_train)\n",
        "    self.x_test = preprocess_image(self.x_test)\n",
        "    self.y_test = preprocess_labels(self.y_test)\n",
        " \n",
        "  def batch_labeled(self,batch_size):\n",
        " \n",
        "    sample_per_class = int(self.num_labeled/self.num_classes)\n",
        "    imgs = list()\n",
        "    labels = list()\n",
        "    for i in range(sample_per_class):\n",
        "      idx = self.y_train==i\n",
        "      idx = [i for i, x in enumerate(idx) if x]\n",
        "      x_classes= self.x_train[idx]\n",
        "      y_classes = self.y_train[idx]\n",
        "      #index = np.random.randint(0,x_classes.shape[0],sample_per_class)\n",
        "      index = np.arange(sample_per_class)\n",
        "      x_imgs = x_classes[index]\n",
        "      y_imgs = y_classes[index]\n",
        "      \n",
        "      #print(x_imgs.shape)\n",
        "      [imgs.append(x_imgs[j]) for j in index ]\n",
        "      [labels.append(y_imgs[j]) for j in range(num_classes)]\n",
        " \n",
        "    imgs = np.asarray(imgs)\n",
        "    \n",
        "    labels = np.asarray(labels)\n",
        "    #print(labels)\n",
        " \n",
        "    ix  = np.random.randint(0,self.num_labeled,batch_size)\n",
        "    imgs = imgs[ix]\n",
        "    labels = labels[ix]\n",
        "    #print(labels.shape)\n",
        "    return imgs,labels\n",
        " \n",
        "  def batch_unlabeled(self,batch_size):\n",
        "    idx = np.random.randint(self.num_labeled,self.x_train.shape[0],batch_size)\n",
        "    imgs = self.x_train[idx]\n",
        "    return imgs\n",
        " \n",
        "  def training_set(self):\n",
        "     x_train = self.x_train[range(self.num_labeled)]  \n",
        "     y_train = self.y_train[range(self.num_labeled)]\n",
        "     return x_train ,y_train\n",
        "  def testing_set(self):\n",
        "    return self.x_test,self.y_test\n",
        " \n",
        "num_labeled = 100\n",
        "num_classes = 10\n",
        "dataset = Dataset(num_labeled,num_classes)\n",
        "i= dataset.batch_unlabeled(32)\n",
        "plt.imshow(i[0,:,:,0],cmap='gray')\n",
        "#print(l[0])"
      ],
      "execution_count": 4,
      "outputs": [
        {
          "output_type": "stream",
          "text": [
            "Downloading data from https://s3.amazonaws.com/img-datasets/mnist.npz\n",
            "11493376/11490434 [==============================] - 1s 0us/step\n",
            "-1.0\n"
          ],
          "name": "stdout"
        },
        {
          "output_type": "execute_result",
          "data": {
            "text/plain": [
              "<matplotlib.image.AxesImage at 0x7f29e627ec50>"
            ]
          },
          "metadata": {
            "tags": []
          },
          "execution_count": 4
        },
        {
          "output_type": "display_data",
          "data": {
            "image/png": "[encoded data removed]",
            "text/plain": [
              "<Figure size 432x288 with 1 Axes>"
            ]
          },
          "metadata": {
            "tags": [],
            "needs_background": "light"
          }
        }
      ]
    },
    {
      "cell_type": "code",
      "metadata": {
        "id": "WvUxsfztQXIT",
        "colab_type": "code",
        "colab": {}
      },
      "source": [
        "def build_generator(z_dim):\n",
        "  model = Sequential()\n",
        "  model.add(Dense(256*7*7,input_dim=z_dim))\n",
        "  model.add(Reshape((7,7,256)))\n",
        "  model.add(Conv2DTranspose(128,kernel_size=3,strides=2,padding='same'))\n",
        "  model.add(BatchNormalization())\n",
        "  model.add(LeakyReLU(alpha=0.01))\n",
        "  model.add(Conv2DTranspose(64,kernel_size=3,strides=1,padding='same'))\n",
        "  model.add(BatchNormalization())\n",
        "  model.add(LeakyReLU(alpha=0.01))\n",
        "  model.add(Conv2DTranspose(1,kernel_size=(3,3),strides=2,padding='same',activation='tanh'))\n",
        "  #model.add(Activation('tanh'))\n",
        "\n",
        "  return model\n"
      ],
      "execution_count": 5,
      "outputs": []
    },
    {
      "cell_type": "code",
      "metadata": {
        "id": "PTE0y8NRWXDK",
        "colab_type": "code",
        "colab": {}
      },
      "source": [
        "def build_discriminator(img_shape):\n",
        "  inp = Input(shape=img_shape)\n",
        "\n",
        "  X = Conv2D(32,kernel_size=(3,3),strides=2,input_shape=img_shape,padding='same')(inp)\n",
        "  X = LeakyReLU(alpha=0.01)(X)\n",
        "  X = Conv2D(64,kernel_size=(3,3),strides=2,padding='same')(X)\n",
        "  X = BatchNormalization()(X)\n",
        "  X = LeakyReLU(alpha=0.01)(X)\n",
        "  X = Conv2D(128,kernel_size=(3,3),strides=2,padding='same')(X)\n",
        "  X = BatchNormalization()(X)\n",
        "  X = LeakyReLU(alpha=0.01)(X)\n",
        "\n",
        "  \n",
        "  X = Flatten(name=\"flatten\")(X)\n",
        "  X = Dropout(0.5)(X)\n",
        "  X = Dense(num_classes)(X)\n",
        "  model = Model(inputs=inp,outputs=X)\n",
        "  return model\n",
        "\n"
      ],
      "execution_count": 6,
      "outputs": []
    },
    {
      "cell_type": "code",
      "metadata": {
        "id": "nDFHMbK_YUv1",
        "colab_type": "code",
        "colab": {}
      },
      "source": [
        "def build_discriminator_supervised(discriminator):\n",
        "  model = Sequential()\n",
        "  model.add(discriminator)\n",
        "  model.add(Activation('softmax'))\n",
        "  return model"
      ],
      "execution_count": 7,
      "outputs": []
    },
    {
      "cell_type": "code",
      "metadata": {
        "id": "pI32genSoQaj",
        "colab_type": "code",
        "colab": {}
      },
      "source": [
        "\"\"\"def build_discriminator_unsupervised(discriminator,img_shape):\n",
        "\n",
        "  input = Input(shape=img_shape)\n",
        "\n",
        "  flat = input\n",
        "  for i in range(len(discriminator.layers)-1):\n",
        "    flat = discriminator.layers[i](flat)\n",
        "\n",
        "  out = Dense(1,activation='sigmoid')(flat)\n",
        "  model = Model(inputs=input,outputs=out) \n",
        "\n",
        "  return model \"\"\""
      ],
      "execution_count": 8,
      "outputs": []
    },
    {
      "cell_type": "code",
      "metadata": {
        "id": "pu6bFs1m6ANc",
        "colab_type": "code",
        "colab": {}
      },
      "source": [
        "def build_discriminator_unsupervised(discriminator):\n",
        "  model = Sequential()\n",
        "  model.add(discriminator)\n",
        "  def custom_activation(x):\n",
        "        \n",
        "    prediction = 1.0 - (1.0 /\n",
        "                           (K.sum(K.exp(x), axis=-1, keepdims=True) + 1.0))\n",
        "    return prediction\n",
        "  model.add(Lambda(custom_activation))\n",
        "  \n",
        "  return model  "
      ],
      "execution_count": 11,
      "outputs": []
    },
    {
      "cell_type": "code",
      "metadata": {
        "id": "DJe3pbHh9qyb",
        "colab_type": "code",
        "colab": {}
      },
      "source": [
        "def build_gan(generator,discriminator):\n",
        "  model = Sequential()\n",
        "  model.add(generator)\n",
        "  model.add(discriminator)\n",
        "  return model\n"
      ],
      "execution_count": 12,
      "outputs": []
    },
    {
      "cell_type": "code",
      "metadata": {
        "id": "lb6tgxx56HuY",
        "colab_type": "code",
        "colab": {
          "base_uri": "https://localhost:8080/",
          "height": 271
        },
        "outputId": "4651a057-cf84-4b10-d0cc-85ee5c93c999"
      },
      "source": [
        "discriminator_unsupervised.summary()"
      ],
      "execution_count": null,
      "outputs": [
        {
          "output_type": "stream",
          "text": [
            "Model: \"sequential_17\"\n",
            "_________________________________________________________________\n",
            "Layer (type)                 Output Shape              Param #   \n",
            "=================================================================\n",
            "model_18 (Model)             (None, 10)                113930    \n",
            "_________________________________________________________________\n",
            "lambda_2 (Lambda)            (None, 1)                 0         \n",
            "=================================================================\n",
            "Total params: 227,476\n",
            "Trainable params: 113,546\n",
            "Non-trainable params: 113,930\n",
            "_________________________________________________________________\n"
          ],
          "name": "stdout"
        },
        {
          "output_type": "stream",
          "text": [
            "/tensorflow-1.15.2/python3.6/keras/engine/training.py:297: UserWarning: Discrepancy between trainable weights and collected trainable weights, did you set `model.trainable` without calling `model.compile` after ?\n",
            "  'Discrepancy between trainable weights and collected trainable'\n"
          ],
          "name": "stderr"
        }
      ]
    },
    {
      "cell_type": "code",
      "metadata": {
        "id": "ny40FsUR-R1g",
        "colab_type": "code",
        "colab": {
          "base_uri": "https://localhost:8080/",
          "height": 87
        },
        "outputId": "6a83751a-2575-4d38-d6ae-935488f58734"
      },
      "source": [
        "discriminator = build_discriminator(img_shape)\n",
        "discriminator_supervised = build_discriminator_supervised(discriminator)\n",
        "discriminator_supervised.compile(optimizer= Adam(learning_rate=0.001),loss=\"categorical_crossentropy\",metrics=['accuracy'])\n",
        "discriminator_unsupervised = build_discriminator_unsupervised(discriminator)\n",
        "discriminator_unsupervised.compile(optimizer = Adam(learning_rate=0.001),loss='binary_crossentropy',metrics=['accuracy'])\n"
      ],
      "execution_count": 13,
      "outputs": [
        {
          "output_type": "stream",
          "text": [
            "WARNING:tensorflow:From /tensorflow-1.15.2/python3.6/tensorflow_core/python/ops/resource_variable_ops.py:1630: calling BaseResourceVariable.__init__ (from tensorflow.python.ops.resource_variable_ops) with constraint is deprecated and will be removed in a future version.\n",
            "Instructions for updating:\n",
            "If using Keras pass *_constraint arguments to layers.\n"
          ],
          "name": "stdout"
        }
      ]
    },
    {
      "cell_type": "code",
      "metadata": {
        "id": "Z4YEhb3eywnj",
        "colab_type": "code",
        "colab": {}
      },
      "source": [
        "generator = build_generator(z_dim)\n",
        "discriminator_unsupervised.trainable = False\n",
        "gan = build_gan(generator,discriminator_unsupervised)\n",
        "gan.compile(optimizer=Adam(learning_rate=0.001),loss='binary_crossentropy',metrics=['accuracy'])\n"
      ],
      "execution_count": 14,
      "outputs": []
    },
    {
      "cell_type": "code",
      "metadata": {
        "id": "adiwryZJV3-e",
        "colab_type": "code",
        "colab": {}
      },
      "source": [
        "from keras.utils import to_categorical\n",
        "x_test,y_test = dataset.testing_set()\n",
        "y_test = to_categorical(y_test,num_classes)"
      ],
      "execution_count": 17,
      "outputs": []
    },
    {
      "cell_type": "code",
      "metadata": {
        "id": "nK32hPQX-1Z6",
        "colab_type": "code",
        "colab": {}
      },
      "source": [
        "supervised_losses = []\n",
        "iteration_checkpoints = []\n",
        "accuracies = []\n",
        "val_losses = []\n",
        "from keras.utils import to_categorical\n",
        "def train(iterations,batch_size,sample_interval):\n",
        "\n",
        "  real = np.ones((batch_size,1))\n",
        "  fake = np.zeros((batch_size,1))\n",
        "\n",
        "  for iteration in range(iterations):\n",
        "    imgs,labels = dataset.batch_labeled(batch_size)\n",
        "    \n",
        "    #print(labels)\n",
        "    labels = to_categorical(labels,num_classes=num_classes)\n",
        "\n",
        "    unlabeled_imgs = dataset.batch_unlabeled(batch_size)\n",
        "\n",
        "    z = np.random.normal(0,1,(batch_size,z_dim))\n",
        "    \n",
        "    fake_imgs = generator.predict(z)\n",
        "    #print(fake_imgs.shape)\n",
        "\n",
        "    d_supervised_loss,accuracy = discriminator_supervised.train_on_batch(imgs,labels)\n",
        "    d_unsupervised_loss_real = discriminator_unsupervised.train_on_batch(unlabeled_imgs,real)\n",
        "    d_unsupervised_loss_fake = discriminator_unsupervised.train_on_batch(fake_imgs,fake)\n",
        "    d_unsupervised_loss = 0.5*np.add(d_unsupervised_loss_real,d_unsupervised_loss_fake)\n",
        "\n",
        "    z = np.random.normal(0,1,(batch_size,z_dim))\n",
        "    fake_imgs = generator.predict(z)\n",
        "    generator_loss = gan.train_on_batch(z,real)\n",
        "\n",
        "    \n",
        "    if(iteration+1) % sample_interval ==0:\n",
        "      supervised_losses.append(d_supervised_loss)\n",
        "      accuracies.append(100*accuracy)\n",
        "      iteration_checkpoints.append(iteration+1)\n",
        "      val_loss = discriminator_supervised.evaluate(x=x_test,y=y_test,verbose=0)\n",
        "      val_losses.append(val_loss[0])\n",
        "      print(\"Iteration No.:\",iteration+1,end=\",\")\n",
        "      print(\"Discriminator Supervised Loss:\",d_supervised_loss,end=',')\n",
        "      print('Generator Loss:',generator_loss,end=\",\")\n",
        "      print('Discriminator Unsuperived Loss:',d_unsupervised_loss,sep=',')\n",
        "      print('val_loss:',val_loss,sep=',')\n",
        "      print('Accuracy Supervised:',100*accuracy)\n",
        "      #sample_images(generator)              \n",
        "\n",
        "\n"
      ],
      "execution_count": 18,
      "outputs": []
    },
    {
      "cell_type": "code",
      "metadata": {
        "id": "6I0n92EfOyI3",
        "colab_type": "code",
        "colab": {
          "base_uri": "https://localhost:8080/",
          "height": 672
        },
        "outputId": "703c8796-1867-430d-a92c-d6b75148dc5f"
      },
      "source": [
        "iterations = 6000\n",
        "batch_size = 32\n",
        "sample_interval = 500\n",
        "train(iterations,batch_size,sample_interval)"
      ],
      "execution_count": 19,
      "outputs": [
        {
          "output_type": "stream",
          "text": [
            "/tensorflow-1.15.2/python3.6/keras/engine/training.py:297: UserWarning: Discrepancy between trainable weights and collected trainable weights, did you set `model.trainable` without calling `model.compile` after ?\n",
            "  'Discrepancy between trainable weights and collected trainable'\n"
          ],
          "name": "stderr"
        },
        {
          "output_type": "stream",
          "text": [
            "Iteration No.: 500,Discriminator Supervised Loss: 0.0014667407,Generator Loss: [6.0221334, 0.0],Discriminator Unsuperived Loss:,[0.16970335 0.9375    ]\n",
            "val_loss:,[1.1479747320890428, 0.7588000297546387]\n",
            "Accuracy Supervised: 100.0\n",
            "Iteration No.: 1000,Discriminator Supervised Loss: 0.00077735144,Generator Loss: [2.1752708, 0.28125],Discriminator Unsuperived Loss:,[0.33284265 0.84375   ]\n",
            "val_loss:,[0.8625447589278221, 0.8159000277519226]\n",
            "Accuracy Supervised: 100.0\n",
            "Iteration No.: 1500,Discriminator Supervised Loss: 0.001583716,Generator Loss: [5.632284, 0.0],Discriminator Unsuperived Loss:,[0.13165183 0.9375    ]\n",
            "val_loss:,[0.7292920727193356, 0.8345999717712402]\n",
            "Accuracy Supervised: 100.0\n",
            "Iteration No.: 2000,Discriminator Supervised Loss: 0.000495633,Generator Loss: [3.6482358, 0.03125],Discriminator Unsuperived Loss:,[0.18160436 0.9375    ]\n",
            "val_loss:,[0.48627812502980233, 0.8690999746322632]\n",
            "Accuracy Supervised: 100.0\n",
            "Iteration No.: 2500,Discriminator Supervised Loss: 0.00051390677,Generator Loss: [5.4452004, 0.03125],Discriminator Unsuperived Loss:,[0.10158803 0.96875   ]\n",
            "val_loss:,[0.37305503998696804, 0.8978999853134155]\n",
            "Accuracy Supervised: 100.0\n",
            "Iteration No.: 3000,Discriminator Supervised Loss: 0.0003531609,Generator Loss: [3.0508437, 0.125],Discriminator Unsuperived Loss:,[1.1583611 0.578125 ]\n",
            "val_loss:,[0.39098439627960324, 0.891700029373169]\n",
            "Accuracy Supervised: 100.0\n",
            "Iteration No.: 3500,Discriminator Supervised Loss: 0.000955008,Generator Loss: [4.5092573, 0.0],Discriminator Unsuperived Loss:,[0.04281399 1.        ]\n",
            "val_loss:,[0.40245250902175905, 0.8847000002861023]\n",
            "Accuracy Supervised: 100.0\n",
            "Iteration No.: 4000,Discriminator Supervised Loss: 0.00020810924,Generator Loss: [8.811657, 0.0],Discriminator Unsuperived Loss:,[0.15911637 0.9375    ]\n",
            "val_loss:,[0.361822760566324, 0.9016000032424927]\n",
            "Accuracy Supervised: 100.0\n",
            "Iteration No.: 4500,Discriminator Supervised Loss: 0.00016242912,Generator Loss: [4.0373707, 0.09375],Discriminator Unsuperived Loss:,[0.45735067 0.75      ]\n",
            "val_loss:,[0.3306042741417885, 0.904699981212616]\n",
            "Accuracy Supervised: 100.0\n",
            "Iteration No.: 5000,Discriminator Supervised Loss: 0.00041477362,Generator Loss: [4.339197, 0.0],Discriminator Unsuperived Loss:,[0.05598721 0.984375  ]\n",
            "val_loss:,[0.34029233316071333, 0.9059000015258789]\n",
            "Accuracy Supervised: 100.0\n",
            "Iteration No.: 5500,Discriminator Supervised Loss: 0.00018148751,Generator Loss: [4.653995, 0.0],Discriminator Unsuperived Loss:,[0.20818567 0.9375    ]\n",
            "val_loss:,[0.38919947255030274, 0.8981000185012817]\n",
            "Accuracy Supervised: 100.0\n",
            "Iteration No.: 6000,Discriminator Supervised Loss: 5.865204e-05,Generator Loss: [2.7954097, 0.25],Discriminator Unsuperived Loss:,[0.19416927 0.90625   ]\n",
            "val_loss:,[0.3633656664401293, 0.9067000150680542]\n",
            "Accuracy Supervised: 100.0\n"
          ],
          "name": "stdout"
        }
      ]
    },
    {
      "cell_type": "code",
      "metadata": {
        "id": "UoY9weqePVuy",
        "colab_type": "code",
        "colab": {
          "base_uri": "https://localhost:8080/",
          "height": 50
        },
        "outputId": "ff4cdb9e-92a1-4c78-ae65-fd493d8118a7"
      },
      "source": [
        "\n",
        "_,accuracy = discriminator_supervised.evaluate(x_test,y_test)\n",
        "print(\"Test Accuracy:\",accuracy)"
      ],
      "execution_count": 20,
      "outputs": [
        {
          "output_type": "stream",
          "text": [
            "10000/10000 [==============================] - 1s 69us/step\n",
            "Test Accuracy: 0.9067000150680542\n"
          ],
          "name": "stdout"
        }
      ]
    },
    {
      "cell_type": "code",
      "metadata": {
        "id": "VpYtuSX8rjhJ",
        "colab_type": "code",
        "colab": {
          "base_uri": "https://localhost:8080/",
          "height": 248
        },
        "outputId": "2c14bfdf-245c-43bd-ea8b-d9d993de0b27"
      },
      "source": [
        "n_rows = 4\n",
        "fig,axs = plt.subplots(n_rows,n_rows,figsize=(4,4),sharex=True,sharey=True)\n",
        "z = np.random.normal(0,1,(n_rows**2,z_dim))\n",
        "#z = z/2 + 0.5\n",
        "gen_imgs = generator.predict(z)\n",
        "gen_imgs = gen_imgs/2 + 0.5\n",
        "count = 0\n",
        "for i in range(n_rows):\n",
        "  for j in range(n_rows):\n",
        "    axs[i,j].imshow(gen_imgs[count,:,:,0],cmap='gray')\n",
        "    count = count + 1\n",
        "    axs[i,j].axis('off')\n",
        "\n"
      ],
      "execution_count": 27,
      "outputs": [
        {
          "output_type": "display_data",
          "data": {
            "image/png": "[encoded data removed]",
            "text/plain": [
              "<Figure size 288x288 with 16 Axes>"
            ]
          },
          "metadata": {
            "tags": [],
            "needs_background": "light"
          }
        }
      ]
    },
    {
      "cell_type": "code",
      "metadata": {
        "id": "oMpUcU-Jr_B7",
        "colab_type": "code",
        "colab": {}
      },
      "source": [
        "mnist_classifier = build_discriminator_supervised(\n",
        "                         build_discriminator(img_shape))     \n",
        "\n",
        "mnist_classifier.compile(loss='sparse_categorical_crossentropy',\n",
        "                         metrics=['accuracy'],\n",
        "                         optimizer=Adam())"
      ],
      "execution_count": 28,
      "outputs": []
    },
    {
      "cell_type": "code",
      "metadata": {
        "id": "TGpi-VX8TEg8",
        "colab_type": "code",
        "colab": {
          "base_uri": "https://localhost:8080/",
          "height": 1000
        },
        "outputId": "01fe92d5-44bd-4d5e-d653-aba95c9b7ff6"
      },
      "source": [
        "x_train,y_train =dataset.batch_labeled(100)\n",
        "mnist_classifier.fit(x=x_train,y=y_train,epochs=100)"
      ],
      "execution_count": 29,
      "outputs": [
        {
          "output_type": "stream",
          "text": [
            "Epoch 1/100\n",
            "100/100 [==============================] - 0s 3ms/step - loss: 2.9624 - accuracy: 0.1600\n",
            "Epoch 2/100\n",
            "100/100 [==============================] - 0s 209us/step - loss: 1.0219 - accuracy: 0.6600\n",
            "Epoch 3/100\n",
            "100/100 [==============================] - 0s 220us/step - loss: 0.5442 - accuracy: 0.8600\n",
            "Epoch 4/100\n",
            "100/100 [==============================] - 0s 221us/step - loss: 0.3967 - accuracy: 0.8900\n",
            "Epoch 5/100\n",
            "100/100 [==============================] - 0s 213us/step - loss: 0.2191 - accuracy: 0.9500\n",
            "Epoch 6/100\n",
            "100/100 [==============================] - 0s 215us/step - loss: 0.1209 - accuracy: 0.9800\n",
            "Epoch 7/100\n",
            "100/100 [==============================] - 0s 223us/step - loss: 0.1116 - accuracy: 0.9900\n",
            "Epoch 8/100\n",
            "100/100 [==============================] - 0s 209us/step - loss: 0.0952 - accuracy: 0.9900\n",
            "Epoch 9/100\n",
            "100/100 [==============================] - 0s 204us/step - loss: 0.0813 - accuracy: 0.9800\n",
            "Epoch 10/100\n",
            "100/100 [==============================] - 0s 242us/step - loss: 0.0384 - accuracy: 1.0000\n",
            "Epoch 11/100\n",
            "100/100 [==============================] - 0s 225us/step - loss: 0.0283 - accuracy: 1.0000\n",
            "Epoch 12/100\n",
            "100/100 [==============================] - 0s 226us/step - loss: 0.0260 - accuracy: 1.0000\n",
            "Epoch 13/100\n",
            "100/100 [==============================] - 0s 201us/step - loss: 0.0182 - accuracy: 1.0000\n",
            "Epoch 14/100\n",
            "100/100 [==============================] - 0s 216us/step - loss: 0.0144 - accuracy: 1.0000\n",
            "Epoch 15/100\n",
            "100/100 [==============================] - 0s 232us/step - loss: 0.0090 - accuracy: 1.0000\n",
            "Epoch 16/100\n",
            "100/100 [==============================] - 0s 199us/step - loss: 0.0181 - accuracy: 1.0000\n",
            "Epoch 17/100\n",
            "100/100 [==============================] - 0s 245us/step - loss: 0.0143 - accuracy: 1.0000\n",
            "Epoch 18/100\n",
            "100/100 [==============================] - 0s 321us/step - loss: 0.0065 - accuracy: 1.0000\n",
            "Epoch 19/100\n",
            "100/100 [==============================] - 0s 226us/step - loss: 0.0072 - accuracy: 1.0000\n",
            "Epoch 20/100\n",
            "100/100 [==============================] - 0s 232us/step - loss: 0.0087 - accuracy: 1.0000\n",
            "Epoch 21/100\n",
            "100/100 [==============================] - 0s 229us/step - loss: 0.0075 - accuracy: 1.0000\n",
            "Epoch 22/100\n",
            "100/100 [==============================] - 0s 226us/step - loss: 0.0056 - accuracy: 1.0000\n",
            "Epoch 23/100\n",
            "100/100 [==============================] - 0s 221us/step - loss: 0.0060 - accuracy: 1.0000\n",
            "Epoch 24/100\n",
            "100/100 [==============================] - 0s 222us/step - loss: 0.0080 - accuracy: 1.0000\n",
            "Epoch 25/100\n",
            "100/100 [==============================] - 0s 213us/step - loss: 0.0049 - accuracy: 1.0000\n",
            "Epoch 26/100\n",
            "100/100 [==============================] - 0s 222us/step - loss: 0.0048 - accuracy: 1.0000\n",
            "Epoch 27/100\n",
            "100/100 [==============================] - 0s 207us/step - loss: 0.0040 - accuracy: 1.0000\n",
            "Epoch 28/100\n",
            "100/100 [==============================] - 0s 207us/step - loss: 0.0041 - accuracy: 1.0000\n",
            "Epoch 29/100\n",
            "100/100 [==============================] - 0s 217us/step - loss: 0.0048 - accuracy: 1.0000\n",
            "Epoch 30/100\n",
            "100/100 [==============================] - 0s 223us/step - loss: 0.0034 - accuracy: 1.0000\n",
            "Epoch 31/100\n",
            "100/100 [==============================] - 0s 236us/step - loss: 0.0030 - accuracy: 1.0000\n",
            "Epoch 32/100\n",
            "100/100 [==============================] - 0s 203us/step - loss: 0.0034 - accuracy: 1.0000\n",
            "Epoch 33/100\n",
            "100/100 [==============================] - 0s 210us/step - loss: 0.0046 - accuracy: 1.0000\n",
            "Epoch 34/100\n",
            "100/100 [==============================] - 0s 234us/step - loss: 0.0049 - accuracy: 1.0000\n",
            "Epoch 35/100\n",
            "100/100 [==============================] - 0s 275us/step - loss: 0.0021 - accuracy: 1.0000\n",
            "Epoch 36/100\n",
            "100/100 [==============================] - 0s 212us/step - loss: 0.0038 - accuracy: 1.0000\n",
            "Epoch 37/100\n",
            "100/100 [==============================] - 0s 217us/step - loss: 0.0031 - accuracy: 1.0000\n",
            "Epoch 38/100\n",
            "100/100 [==============================] - 0s 218us/step - loss: 0.0029 - accuracy: 1.0000\n",
            "Epoch 39/100\n",
            "100/100 [==============================] - 0s 209us/step - loss: 0.0029 - accuracy: 1.0000\n",
            "Epoch 40/100\n",
            "100/100 [==============================] - 0s 203us/step - loss: 0.0018 - accuracy: 1.0000\n",
            "Epoch 41/100\n",
            "100/100 [==============================] - 0s 207us/step - loss: 0.0031 - accuracy: 1.0000\n",
            "Epoch 42/100\n",
            "100/100 [==============================] - 0s 235us/step - loss: 0.0022 - accuracy: 1.0000\n",
            "Epoch 43/100\n",
            "100/100 [==============================] - 0s 206us/step - loss: 0.0026 - accuracy: 1.0000\n",
            "Epoch 44/100\n",
            "100/100 [==============================] - 0s 207us/step - loss: 0.0025 - accuracy: 1.0000\n",
            "Epoch 45/100\n",
            "100/100 [==============================] - 0s 224us/step - loss: 0.0024 - accuracy: 1.0000\n",
            "Epoch 46/100\n",
            "100/100 [==============================] - 0s 228us/step - loss: 0.0027 - accuracy: 1.0000\n",
            "Epoch 47/100\n",
            "100/100 [==============================] - 0s 240us/step - loss: 0.0029 - accuracy: 1.0000\n",
            "Epoch 48/100\n",
            "100/100 [==============================] - 0s 202us/step - loss: 0.0022 - accuracy: 1.0000\n",
            "Epoch 49/100\n",
            "100/100 [==============================] - 0s 210us/step - loss: 0.0026 - accuracy: 1.0000\n",
            "Epoch 50/100\n",
            "100/100 [==============================] - 0s 244us/step - loss: 0.0017 - accuracy: 1.0000\n",
            "Epoch 51/100\n",
            "100/100 [==============================] - 0s 200us/step - loss: 0.0020 - accuracy: 1.0000\n",
            "Epoch 52/100\n",
            "100/100 [==============================] - 0s 207us/step - loss: 0.0016 - accuracy: 1.0000\n",
            "Epoch 53/100\n",
            "100/100 [==============================] - 0s 229us/step - loss: 0.0018 - accuracy: 1.0000\n",
            "Epoch 54/100\n",
            "100/100 [==============================] - 0s 251us/step - loss: 0.0017 - accuracy: 1.0000\n",
            "Epoch 55/100\n",
            "100/100 [==============================] - 0s 232us/step - loss: 0.0021 - accuracy: 1.0000\n",
            "Epoch 56/100\n",
            "100/100 [==============================] - 0s 222us/step - loss: 0.0018 - accuracy: 1.0000\n",
            "Epoch 57/100\n",
            "100/100 [==============================] - 0s 268us/step - loss: 0.0018 - accuracy: 1.0000\n",
            "Epoch 58/100\n",
            "100/100 [==============================] - 0s 210us/step - loss: 0.0022 - accuracy: 1.0000\n",
            "Epoch 59/100\n",
            "100/100 [==============================] - 0s 222us/step - loss: 0.0010 - accuracy: 1.0000\n",
            "Epoch 60/100\n",
            "100/100 [==============================] - 0s 218us/step - loss: 0.0020 - accuracy: 1.0000\n",
            "Epoch 61/100\n",
            "100/100 [==============================] - 0s 220us/step - loss: 0.0011 - accuracy: 1.0000\n",
            "Epoch 62/100\n",
            "100/100 [==============================] - 0s 231us/step - loss: 0.0014 - accuracy: 1.0000\n",
            "Epoch 63/100\n",
            "100/100 [==============================] - 0s 205us/step - loss: 0.0014 - accuracy: 1.0000\n",
            "Epoch 64/100\n",
            "100/100 [==============================] - 0s 238us/step - loss: 0.0015 - accuracy: 1.0000\n",
            "Epoch 65/100\n",
            "100/100 [==============================] - 0s 241us/step - loss: 0.0011 - accuracy: 1.0000\n",
            "Epoch 66/100\n",
            "100/100 [==============================] - 0s 218us/step - loss: 9.5152e-04 - accuracy: 1.0000\n",
            "Epoch 67/100\n",
            "100/100 [==============================] - 0s 226us/step - loss: 0.0020 - accuracy: 1.0000\n",
            "Epoch 68/100\n",
            "100/100 [==============================] - 0s 219us/step - loss: 0.0014 - accuracy: 1.0000\n",
            "Epoch 69/100\n",
            "100/100 [==============================] - 0s 212us/step - loss: 0.0013 - accuracy: 1.0000\n",
            "Epoch 70/100\n",
            "100/100 [==============================] - 0s 205us/step - loss: 0.0011 - accuracy: 1.0000\n",
            "Epoch 71/100\n",
            "100/100 [==============================] - 0s 225us/step - loss: 0.0017 - accuracy: 1.0000\n",
            "Epoch 72/100\n",
            "100/100 [==============================] - 0s 209us/step - loss: 7.2394e-04 - accuracy: 1.0000\n",
            "Epoch 73/100\n",
            "100/100 [==============================] - 0s 210us/step - loss: 0.0011 - accuracy: 1.0000\n",
            "Epoch 74/100\n",
            "100/100 [==============================] - 0s 254us/step - loss: 0.0012 - accuracy: 1.0000\n",
            "Epoch 75/100\n",
            "100/100 [==============================] - 0s 212us/step - loss: 0.0023 - accuracy: 1.0000\n",
            "Epoch 76/100\n",
            "100/100 [==============================] - 0s 212us/step - loss: 8.7617e-04 - accuracy: 1.0000\n",
            "Epoch 77/100\n",
            "100/100 [==============================] - 0s 218us/step - loss: 7.6870e-04 - accuracy: 1.0000\n",
            "Epoch 78/100\n",
            "100/100 [==============================] - 0s 213us/step - loss: 0.0013 - accuracy: 1.0000\n",
            "Epoch 79/100\n",
            "100/100 [==============================] - 0s 220us/step - loss: 6.6801e-04 - accuracy: 1.0000\n",
            "Epoch 80/100\n",
            "100/100 [==============================] - 0s 212us/step - loss: 8.3457e-04 - accuracy: 1.0000\n",
            "Epoch 81/100\n",
            "100/100 [==============================] - 0s 204us/step - loss: 0.0010 - accuracy: 1.0000\n",
            "Epoch 82/100\n",
            "100/100 [==============================] - 0s 211us/step - loss: 9.8251e-04 - accuracy: 1.0000\n",
            "Epoch 83/100\n",
            "100/100 [==============================] - 0s 241us/step - loss: 6.9548e-04 - accuracy: 1.0000\n",
            "Epoch 84/100\n",
            "100/100 [==============================] - 0s 218us/step - loss: 9.8344e-04 - accuracy: 1.0000\n",
            "Epoch 85/100\n",
            "100/100 [==============================] - 0s 253us/step - loss: 0.0010 - accuracy: 1.0000\n",
            "Epoch 86/100\n",
            "100/100 [==============================] - 0s 211us/step - loss: 0.0013 - accuracy: 1.0000\n",
            "Epoch 87/100\n",
            "100/100 [==============================] - 0s 210us/step - loss: 0.0010 - accuracy: 1.0000\n",
            "Epoch 88/100\n",
            "100/100 [==============================] - 0s 226us/step - loss: 8.7584e-04 - accuracy: 1.0000\n",
            "Epoch 89/100\n",
            "100/100 [==============================] - 0s 201us/step - loss: 7.2140e-04 - accuracy: 1.0000\n",
            "Epoch 90/100\n",
            "100/100 [==============================] - 0s 213us/step - loss: 6.1313e-04 - accuracy: 1.0000\n",
            "Epoch 91/100\n",
            "100/100 [==============================] - 0s 249us/step - loss: 7.7793e-04 - accuracy: 1.0000\n",
            "Epoch 92/100\n",
            "100/100 [==============================] - 0s 232us/step - loss: 7.6507e-04 - accuracy: 1.0000\n",
            "Epoch 93/100\n",
            "100/100 [==============================] - 0s 224us/step - loss: 8.6564e-04 - accuracy: 1.0000\n",
            "Epoch 94/100\n",
            "100/100 [==============================] - 0s 211us/step - loss: 5.5915e-04 - accuracy: 1.0000\n",
            "Epoch 95/100\n",
            "100/100 [==============================] - 0s 214us/step - loss: 5.6881e-04 - accuracy: 1.0000\n",
            "Epoch 96/100\n",
            "100/100 [==============================] - 0s 241us/step - loss: 6.1256e-04 - accuracy: 1.0000\n",
            "Epoch 97/100\n",
            "100/100 [==============================] - 0s 306us/step - loss: 5.3562e-04 - accuracy: 1.0000\n",
            "Epoch 98/100\n",
            "100/100 [==============================] - 0s 218us/step - loss: 9.3074e-04 - accuracy: 1.0000\n",
            "Epoch 99/100\n",
            "100/100 [==============================] - 0s 211us/step - loss: 3.7723e-04 - accuracy: 1.0000\n",
            "Epoch 100/100\n",
            "100/100 [==============================] - 0s 219us/step - loss: 6.1361e-04 - accuracy: 1.0000\n"
          ],
          "name": "stdout"
        },
        {
          "output_type": "execute_result",
          "data": {
            "text/plain": [
              "<keras.callbacks.callbacks.History at 0x7f2942a04240>"
            ]
          },
          "metadata": {
            "tags": []
          },
          "execution_count": 29
        }
      ]
    },
    {
      "cell_type": "code",
      "metadata": {
        "id": "t47v7DfXTbWK",
        "colab_type": "code",
        "colab": {
          "base_uri": "https://localhost:8080/",
          "height": 50
        },
        "outputId": "8d2f6a2d-4136-443e-d35d-e7790e1a9bb6"
      },
      "source": [
        "x,y = dataset.testing_set()\n",
        "_,accuracy = mnist_classifier.evaluate(x,y)\n",
        "print(\"Test Accuracy for fully supervised classifier:\",accuracy*100)"
      ],
      "execution_count": 30,
      "outputs": [
        {
          "output_type": "stream",
          "text": [
            "10000/10000 [==============================] - 1s 72us/step\n",
            "Test Accuracy for fully supervised classifier: 66.62999987602234\n"
          ],
          "name": "stdout"
        }
      ]
    },
    {
      "cell_type": "code",
      "metadata": {
        "id": "X3o2LJ96TkYQ",
        "colab_type": "code",
        "colab": {}
      },
      "source": [
        ""
      ],
      "execution_count": null,
      "outputs": []
    },
    {
      "cell_type": "code",
      "metadata": {
        "id": "V4SeDPO8EzpE",
        "colab_type": "code",
        "colab": {}
      },
      "source": [
        ""
      ],
      "execution_count": null,
      "outputs": []
    }
  ]
}